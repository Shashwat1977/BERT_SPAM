{
  "nbformat": 4,
  "nbformat_minor": 0,
  "metadata": {
    "colab": {
      "name": "BERT_SPAM.ipynb",
      "provenance": []
    },
    "kernelspec": {
      "name": "python3",
      "display_name": "Python 3"
    },
    "language_info": {
      "name": "python"
    },
    "accelerator": "GPU",
    "gpuClass": "standard"
  },
  "cells": [
    {
      "cell_type": "code",
      "execution_count": 1,
      "metadata": {
        "colab": {
          "base_uri": "https://localhost:8080/"
        },
        "id": "A2_CiID4OYIe",
        "outputId": "d232c043-eb8b-45e2-99cf-b43bc8062bb6"
      },
      "outputs": [
        {
          "output_type": "stream",
          "name": "stdout",
          "text": [
            "--2022-08-08 16:44:38--  https://raw.githubusercontent.com/codebasics/deep-learning-keras-tf-tutorial/master/47_BERT_text_classification/spam.csv\n",
            "Resolving raw.githubusercontent.com (raw.githubusercontent.com)... 185.199.111.133, 185.199.110.133, 185.199.109.133, ...\n",
            "Connecting to raw.githubusercontent.com (raw.githubusercontent.com)|185.199.111.133|:443... connected.\n",
            "HTTP request sent, awaiting response... 200 OK\n",
            "Length: 480130 (469K) [text/plain]\n",
            "Saving to: ‘spam.csv’\n",
            "\n",
            "spam.csv            100%[===================>] 468.88K  --.-KB/s    in 0.003s  \n",
            "\n",
            "2022-08-08 16:44:38 (144 MB/s) - ‘spam.csv’ saved [480130/480130]\n",
            "\n"
          ]
        }
      ],
      "source": [
        "!wget https://raw.githubusercontent.com/codebasics/deep-learning-keras-tf-tutorial/master/47_BERT_text_classification/spam.csv"
      ]
    },
    {
      "cell_type": "code",
      "source": [
        "!pip3 install tensorflow_text\n"
      ],
      "metadata": {
        "colab": {
          "base_uri": "https://localhost:8080/"
        },
        "id": "-Timk8wpPKOB",
        "outputId": "fcee15e4-e258-4f82-89b5-7bac3797392c"
      },
      "execution_count": 2,
      "outputs": [
        {
          "output_type": "stream",
          "name": "stdout",
          "text": [
            "Looking in indexes: https://pypi.org/simple, https://us-python.pkg.dev/colab-wheels/public/simple/\n",
            "Collecting tensorflow_text\n",
            "  Downloading tensorflow_text-2.9.0-cp37-cp37m-manylinux_2_17_x86_64.manylinux2014_x86_64.whl (4.6 MB)\n",
            "\u001b[K     |████████████████████████████████| 4.6 MB 34.0 MB/s \n",
            "\u001b[?25hRequirement already satisfied: tensorflow-hub>=0.8.0 in /usr/local/lib/python3.7/dist-packages (from tensorflow_text) (0.12.0)\n",
            "Collecting tensorflow<2.10,>=2.9.0\n",
            "  Downloading tensorflow-2.9.1-cp37-cp37m-manylinux_2_17_x86_64.manylinux2014_x86_64.whl (511.7 MB)\n",
            "\u001b[K     |████████████████████████████████| 511.7 MB 6.2 kB/s \n",
            "\u001b[?25hRequirement already satisfied: google-pasta>=0.1.1 in /usr/local/lib/python3.7/dist-packages (from tensorflow<2.10,>=2.9.0->tensorflow_text) (0.2.0)\n",
            "Requirement already satisfied: tensorflow-io-gcs-filesystem>=0.23.1 in /usr/local/lib/python3.7/dist-packages (from tensorflow<2.10,>=2.9.0->tensorflow_text) (0.26.0)\n",
            "Requirement already satisfied: absl-py>=1.0.0 in /usr/local/lib/python3.7/dist-packages (from tensorflow<2.10,>=2.9.0->tensorflow_text) (1.2.0)\n",
            "Requirement already satisfied: astunparse>=1.6.0 in /usr/local/lib/python3.7/dist-packages (from tensorflow<2.10,>=2.9.0->tensorflow_text) (1.6.3)\n",
            "Collecting tensorflow-estimator<2.10.0,>=2.9.0rc0\n",
            "  Downloading tensorflow_estimator-2.9.0-py2.py3-none-any.whl (438 kB)\n",
            "\u001b[K     |████████████████████████████████| 438 kB 66.9 MB/s \n",
            "\u001b[?25hCollecting keras<2.10.0,>=2.9.0rc0\n",
            "  Downloading keras-2.9.0-py2.py3-none-any.whl (1.6 MB)\n",
            "\u001b[K     |████████████████████████████████| 1.6 MB 55.3 MB/s \n",
            "\u001b[?25hCollecting tensorboard<2.10,>=2.9\n",
            "  Downloading tensorboard-2.9.1-py3-none-any.whl (5.8 MB)\n",
            "\u001b[K     |████████████████████████████████| 5.8 MB 61.3 MB/s \n",
            "\u001b[?25hRequirement already satisfied: grpcio<2.0,>=1.24.3 in /usr/local/lib/python3.7/dist-packages (from tensorflow<2.10,>=2.9.0->tensorflow_text) (1.47.0)\n",
            "Requirement already satisfied: wrapt>=1.11.0 in /usr/local/lib/python3.7/dist-packages (from tensorflow<2.10,>=2.9.0->tensorflow_text) (1.14.1)\n",
            "Requirement already satisfied: h5py>=2.9.0 in /usr/local/lib/python3.7/dist-packages (from tensorflow<2.10,>=2.9.0->tensorflow_text) (3.1.0)\n",
            "Requirement already satisfied: opt-einsum>=2.3.2 in /usr/local/lib/python3.7/dist-packages (from tensorflow<2.10,>=2.9.0->tensorflow_text) (3.3.0)\n",
            "Requirement already satisfied: six>=1.12.0 in /usr/local/lib/python3.7/dist-packages (from tensorflow<2.10,>=2.9.0->tensorflow_text) (1.15.0)\n",
            "Requirement already satisfied: protobuf<3.20,>=3.9.2 in /usr/local/lib/python3.7/dist-packages (from tensorflow<2.10,>=2.9.0->tensorflow_text) (3.17.3)\n",
            "Collecting flatbuffers<2,>=1.12\n",
            "  Downloading flatbuffers-1.12-py2.py3-none-any.whl (15 kB)\n",
            "Requirement already satisfied: numpy>=1.20 in /usr/local/lib/python3.7/dist-packages (from tensorflow<2.10,>=2.9.0->tensorflow_text) (1.21.6)\n",
            "Requirement already satisfied: setuptools in /usr/local/lib/python3.7/dist-packages (from tensorflow<2.10,>=2.9.0->tensorflow_text) (57.4.0)\n",
            "Requirement already satisfied: libclang>=13.0.0 in /usr/local/lib/python3.7/dist-packages (from tensorflow<2.10,>=2.9.0->tensorflow_text) (14.0.6)\n",
            "Requirement already satisfied: termcolor>=1.1.0 in /usr/local/lib/python3.7/dist-packages (from tensorflow<2.10,>=2.9.0->tensorflow_text) (1.1.0)\n",
            "Requirement already satisfied: keras-preprocessing>=1.1.1 in /usr/local/lib/python3.7/dist-packages (from tensorflow<2.10,>=2.9.0->tensorflow_text) (1.1.2)\n",
            "Requirement already satisfied: typing-extensions>=3.6.6 in /usr/local/lib/python3.7/dist-packages (from tensorflow<2.10,>=2.9.0->tensorflow_text) (4.1.1)\n",
            "Requirement already satisfied: packaging in /usr/local/lib/python3.7/dist-packages (from tensorflow<2.10,>=2.9.0->tensorflow_text) (21.3)\n",
            "Collecting gast<=0.4.0,>=0.2.1\n",
            "  Downloading gast-0.4.0-py3-none-any.whl (9.8 kB)\n",
            "Requirement already satisfied: wheel<1.0,>=0.23.0 in /usr/local/lib/python3.7/dist-packages (from astunparse>=1.6.0->tensorflow<2.10,>=2.9.0->tensorflow_text) (0.37.1)\n",
            "Requirement already satisfied: cached-property in /usr/local/lib/python3.7/dist-packages (from h5py>=2.9.0->tensorflow<2.10,>=2.9.0->tensorflow_text) (1.5.2)\n",
            "Requirement already satisfied: google-auth<3,>=1.6.3 in /usr/local/lib/python3.7/dist-packages (from tensorboard<2.10,>=2.9->tensorflow<2.10,>=2.9.0->tensorflow_text) (1.35.0)\n",
            "Requirement already satisfied: google-auth-oauthlib<0.5,>=0.4.1 in /usr/local/lib/python3.7/dist-packages (from tensorboard<2.10,>=2.9->tensorflow<2.10,>=2.9.0->tensorflow_text) (0.4.6)\n",
            "Requirement already satisfied: tensorboard-data-server<0.7.0,>=0.6.0 in /usr/local/lib/python3.7/dist-packages (from tensorboard<2.10,>=2.9->tensorflow<2.10,>=2.9.0->tensorflow_text) (0.6.1)\n",
            "Requirement already satisfied: markdown>=2.6.8 in /usr/local/lib/python3.7/dist-packages (from tensorboard<2.10,>=2.9->tensorflow<2.10,>=2.9.0->tensorflow_text) (3.4.1)\n",
            "Requirement already satisfied: tensorboard-plugin-wit>=1.6.0 in /usr/local/lib/python3.7/dist-packages (from tensorboard<2.10,>=2.9->tensorflow<2.10,>=2.9.0->tensorflow_text) (1.8.1)\n",
            "Requirement already satisfied: requests<3,>=2.21.0 in /usr/local/lib/python3.7/dist-packages (from tensorboard<2.10,>=2.9->tensorflow<2.10,>=2.9.0->tensorflow_text) (2.23.0)\n",
            "Requirement already satisfied: werkzeug>=1.0.1 in /usr/local/lib/python3.7/dist-packages (from tensorboard<2.10,>=2.9->tensorflow<2.10,>=2.9.0->tensorflow_text) (1.0.1)\n",
            "Requirement already satisfied: pyasn1-modules>=0.2.1 in /usr/local/lib/python3.7/dist-packages (from google-auth<3,>=1.6.3->tensorboard<2.10,>=2.9->tensorflow<2.10,>=2.9.0->tensorflow_text) (0.2.8)\n",
            "Requirement already satisfied: rsa<5,>=3.1.4 in /usr/local/lib/python3.7/dist-packages (from google-auth<3,>=1.6.3->tensorboard<2.10,>=2.9->tensorflow<2.10,>=2.9.0->tensorflow_text) (4.9)\n",
            "Requirement already satisfied: cachetools<5.0,>=2.0.0 in /usr/local/lib/python3.7/dist-packages (from google-auth<3,>=1.6.3->tensorboard<2.10,>=2.9->tensorflow<2.10,>=2.9.0->tensorflow_text) (4.2.4)\n",
            "Requirement already satisfied: requests-oauthlib>=0.7.0 in /usr/local/lib/python3.7/dist-packages (from google-auth-oauthlib<0.5,>=0.4.1->tensorboard<2.10,>=2.9->tensorflow<2.10,>=2.9.0->tensorflow_text) (1.3.1)\n",
            "Requirement already satisfied: importlib-metadata>=4.4 in /usr/local/lib/python3.7/dist-packages (from markdown>=2.6.8->tensorboard<2.10,>=2.9->tensorflow<2.10,>=2.9.0->tensorflow_text) (4.12.0)\n",
            "Requirement already satisfied: zipp>=0.5 in /usr/local/lib/python3.7/dist-packages (from importlib-metadata>=4.4->markdown>=2.6.8->tensorboard<2.10,>=2.9->tensorflow<2.10,>=2.9.0->tensorflow_text) (3.8.1)\n",
            "Requirement already satisfied: pyasn1<0.5.0,>=0.4.6 in /usr/local/lib/python3.7/dist-packages (from pyasn1-modules>=0.2.1->google-auth<3,>=1.6.3->tensorboard<2.10,>=2.9->tensorflow<2.10,>=2.9.0->tensorflow_text) (0.4.8)\n",
            "Requirement already satisfied: chardet<4,>=3.0.2 in /usr/local/lib/python3.7/dist-packages (from requests<3,>=2.21.0->tensorboard<2.10,>=2.9->tensorflow<2.10,>=2.9.0->tensorflow_text) (3.0.4)\n",
            "Requirement already satisfied: certifi>=2017.4.17 in /usr/local/lib/python3.7/dist-packages (from requests<3,>=2.21.0->tensorboard<2.10,>=2.9->tensorflow<2.10,>=2.9.0->tensorflow_text) (2022.6.15)\n",
            "Requirement already satisfied: idna<3,>=2.5 in /usr/local/lib/python3.7/dist-packages (from requests<3,>=2.21.0->tensorboard<2.10,>=2.9->tensorflow<2.10,>=2.9.0->tensorflow_text) (2.10)\n",
            "Requirement already satisfied: urllib3!=1.25.0,!=1.25.1,<1.26,>=1.21.1 in /usr/local/lib/python3.7/dist-packages (from requests<3,>=2.21.0->tensorboard<2.10,>=2.9->tensorflow<2.10,>=2.9.0->tensorflow_text) (1.24.3)\n",
            "Requirement already satisfied: oauthlib>=3.0.0 in /usr/local/lib/python3.7/dist-packages (from requests-oauthlib>=0.7.0->google-auth-oauthlib<0.5,>=0.4.1->tensorboard<2.10,>=2.9->tensorflow<2.10,>=2.9.0->tensorflow_text) (3.2.0)\n",
            "Requirement already satisfied: pyparsing!=3.0.5,>=2.0.2 in /usr/local/lib/python3.7/dist-packages (from packaging->tensorflow<2.10,>=2.9.0->tensorflow_text) (3.0.9)\n",
            "Installing collected packages: tensorflow-estimator, tensorboard, keras, gast, flatbuffers, tensorflow, tensorflow-text\n",
            "  Attempting uninstall: tensorflow-estimator\n",
            "    Found existing installation: tensorflow-estimator 2.8.0\n",
            "    Uninstalling tensorflow-estimator-2.8.0:\n",
            "      Successfully uninstalled tensorflow-estimator-2.8.0\n",
            "  Attempting uninstall: tensorboard\n",
            "    Found existing installation: tensorboard 2.8.0\n",
            "    Uninstalling tensorboard-2.8.0:\n",
            "      Successfully uninstalled tensorboard-2.8.0\n",
            "  Attempting uninstall: keras\n",
            "    Found existing installation: keras 2.8.0\n",
            "    Uninstalling keras-2.8.0:\n",
            "      Successfully uninstalled keras-2.8.0\n",
            "  Attempting uninstall: gast\n",
            "    Found existing installation: gast 0.5.3\n",
            "    Uninstalling gast-0.5.3:\n",
            "      Successfully uninstalled gast-0.5.3\n",
            "  Attempting uninstall: flatbuffers\n",
            "    Found existing installation: flatbuffers 2.0\n",
            "    Uninstalling flatbuffers-2.0:\n",
            "      Successfully uninstalled flatbuffers-2.0\n",
            "  Attempting uninstall: tensorflow\n",
            "    Found existing installation: tensorflow 2.8.2+zzzcolab20220719082949\n",
            "    Uninstalling tensorflow-2.8.2+zzzcolab20220719082949:\n",
            "      Successfully uninstalled tensorflow-2.8.2+zzzcolab20220719082949\n",
            "Successfully installed flatbuffers-1.12 gast-0.4.0 keras-2.9.0 tensorboard-2.9.1 tensorflow-2.9.1 tensorflow-estimator-2.9.0 tensorflow-text-2.9.0\n"
          ]
        }
      ]
    },
    {
      "cell_type": "code",
      "source": [
        "import pandas as pd\n",
        "import numpy as np\n",
        "import tensorflow as tf\n",
        "import tensorflow_hub as hub\n",
        "import tensorflow_text"
      ],
      "metadata": {
        "id": "iMIeU7nfOpaQ"
      },
      "execution_count": 3,
      "outputs": []
    },
    {
      "cell_type": "code",
      "source": [
        "df = pd.read_csv('spam.csv')"
      ],
      "metadata": {
        "id": "JzoRmpmfO_Y9"
      },
      "execution_count": 4,
      "outputs": []
    },
    {
      "cell_type": "code",
      "source": [
        "df.head(10)"
      ],
      "metadata": {
        "colab": {
          "base_uri": "https://localhost:8080/",
          "height": 363
        },
        "id": "Y7KUxiOZP8cs",
        "outputId": "7a9df460-d56f-4b02-8e67-ac06655108aa"
      },
      "execution_count": 5,
      "outputs": [
        {
          "output_type": "execute_result",
          "data": {
            "text/plain": [
              "  Category                                            Message\n",
              "0      ham  Go until jurong point, crazy.. Available only ...\n",
              "1      ham                      Ok lar... Joking wif u oni...\n",
              "2     spam  Free entry in 2 a wkly comp to win FA Cup fina...\n",
              "3      ham  U dun say so early hor... U c already then say...\n",
              "4      ham  Nah I don't think he goes to usf, he lives aro...\n",
              "5     spam  FreeMsg Hey there darling it's been 3 week's n...\n",
              "6      ham  Even my brother is not like to speak with me. ...\n",
              "7      ham  As per your request 'Melle Melle (Oru Minnamin...\n",
              "8     spam  WINNER!! As a valued network customer you have...\n",
              "9     spam  Had your mobile 11 months or more? U R entitle..."
            ],
            "text/html": [
              "\n",
              "  <div id=\"df-4b829b29-7e3f-4761-9484-08ca99c859d7\">\n",
              "    <div class=\"colab-df-container\">\n",
              "      <div>\n",
              "<style scoped>\n",
              "    .dataframe tbody tr th:only-of-type {\n",
              "        vertical-align: middle;\n",
              "    }\n",
              "\n",
              "    .dataframe tbody tr th {\n",
              "        vertical-align: top;\n",
              "    }\n",
              "\n",
              "    .dataframe thead th {\n",
              "        text-align: right;\n",
              "    }\n",
              "</style>\n",
              "<table border=\"1\" class=\"dataframe\">\n",
              "  <thead>\n",
              "    <tr style=\"text-align: right;\">\n",
              "      <th></th>\n",
              "      <th>Category</th>\n",
              "      <th>Message</th>\n",
              "    </tr>\n",
              "  </thead>\n",
              "  <tbody>\n",
              "    <tr>\n",
              "      <th>0</th>\n",
              "      <td>ham</td>\n",
              "      <td>Go until jurong point, crazy.. Available only ...</td>\n",
              "    </tr>\n",
              "    <tr>\n",
              "      <th>1</th>\n",
              "      <td>ham</td>\n",
              "      <td>Ok lar... Joking wif u oni...</td>\n",
              "    </tr>\n",
              "    <tr>\n",
              "      <th>2</th>\n",
              "      <td>spam</td>\n",
              "      <td>Free entry in 2 a wkly comp to win FA Cup fina...</td>\n",
              "    </tr>\n",
              "    <tr>\n",
              "      <th>3</th>\n",
              "      <td>ham</td>\n",
              "      <td>U dun say so early hor... U c already then say...</td>\n",
              "    </tr>\n",
              "    <tr>\n",
              "      <th>4</th>\n",
              "      <td>ham</td>\n",
              "      <td>Nah I don't think he goes to usf, he lives aro...</td>\n",
              "    </tr>\n",
              "    <tr>\n",
              "      <th>5</th>\n",
              "      <td>spam</td>\n",
              "      <td>FreeMsg Hey there darling it's been 3 week's n...</td>\n",
              "    </tr>\n",
              "    <tr>\n",
              "      <th>6</th>\n",
              "      <td>ham</td>\n",
              "      <td>Even my brother is not like to speak with me. ...</td>\n",
              "    </tr>\n",
              "    <tr>\n",
              "      <th>7</th>\n",
              "      <td>ham</td>\n",
              "      <td>As per your request 'Melle Melle (Oru Minnamin...</td>\n",
              "    </tr>\n",
              "    <tr>\n",
              "      <th>8</th>\n",
              "      <td>spam</td>\n",
              "      <td>WINNER!! As a valued network customer you have...</td>\n",
              "    </tr>\n",
              "    <tr>\n",
              "      <th>9</th>\n",
              "      <td>spam</td>\n",
              "      <td>Had your mobile 11 months or more? U R entitle...</td>\n",
              "    </tr>\n",
              "  </tbody>\n",
              "</table>\n",
              "</div>\n",
              "      <button class=\"colab-df-convert\" onclick=\"convertToInteractive('df-4b829b29-7e3f-4761-9484-08ca99c859d7')\"\n",
              "              title=\"Convert this dataframe to an interactive table.\"\n",
              "              style=\"display:none;\">\n",
              "        \n",
              "  <svg xmlns=\"http://www.w3.org/2000/svg\" height=\"24px\"viewBox=\"0 0 24 24\"\n",
              "       width=\"24px\">\n",
              "    <path d=\"M0 0h24v24H0V0z\" fill=\"none\"/>\n",
              "    <path d=\"M18.56 5.44l.94 2.06.94-2.06 2.06-.94-2.06-.94-.94-2.06-.94 2.06-2.06.94zm-11 1L8.5 8.5l.94-2.06 2.06-.94-2.06-.94L8.5 2.5l-.94 2.06-2.06.94zm10 10l.94 2.06.94-2.06 2.06-.94-2.06-.94-.94-2.06-.94 2.06-2.06.94z\"/><path d=\"M17.41 7.96l-1.37-1.37c-.4-.4-.92-.59-1.43-.59-.52 0-1.04.2-1.43.59L10.3 9.45l-7.72 7.72c-.78.78-.78 2.05 0 2.83L4 21.41c.39.39.9.59 1.41.59.51 0 1.02-.2 1.41-.59l7.78-7.78 2.81-2.81c.8-.78.8-2.07 0-2.86zM5.41 20L4 18.59l7.72-7.72 1.47 1.35L5.41 20z\"/>\n",
              "  </svg>\n",
              "      </button>\n",
              "      \n",
              "  <style>\n",
              "    .colab-df-container {\n",
              "      display:flex;\n",
              "      flex-wrap:wrap;\n",
              "      gap: 12px;\n",
              "    }\n",
              "\n",
              "    .colab-df-convert {\n",
              "      background-color: #E8F0FE;\n",
              "      border: none;\n",
              "      border-radius: 50%;\n",
              "      cursor: pointer;\n",
              "      display: none;\n",
              "      fill: #1967D2;\n",
              "      height: 32px;\n",
              "      padding: 0 0 0 0;\n",
              "      width: 32px;\n",
              "    }\n",
              "\n",
              "    .colab-df-convert:hover {\n",
              "      background-color: #E2EBFA;\n",
              "      box-shadow: 0px 1px 2px rgba(60, 64, 67, 0.3), 0px 1px 3px 1px rgba(60, 64, 67, 0.15);\n",
              "      fill: #174EA6;\n",
              "    }\n",
              "\n",
              "    [theme=dark] .colab-df-convert {\n",
              "      background-color: #3B4455;\n",
              "      fill: #D2E3FC;\n",
              "    }\n",
              "\n",
              "    [theme=dark] .colab-df-convert:hover {\n",
              "      background-color: #434B5C;\n",
              "      box-shadow: 0px 1px 3px 1px rgba(0, 0, 0, 0.15);\n",
              "      filter: drop-shadow(0px 1px 2px rgba(0, 0, 0, 0.3));\n",
              "      fill: #FFFFFF;\n",
              "    }\n",
              "  </style>\n",
              "\n",
              "      <script>\n",
              "        const buttonEl =\n",
              "          document.querySelector('#df-4b829b29-7e3f-4761-9484-08ca99c859d7 button.colab-df-convert');\n",
              "        buttonEl.style.display =\n",
              "          google.colab.kernel.accessAllowed ? 'block' : 'none';\n",
              "\n",
              "        async function convertToInteractive(key) {\n",
              "          const element = document.querySelector('#df-4b829b29-7e3f-4761-9484-08ca99c859d7');\n",
              "          const dataTable =\n",
              "            await google.colab.kernel.invokeFunction('convertToInteractive',\n",
              "                                                     [key], {});\n",
              "          if (!dataTable) return;\n",
              "\n",
              "          const docLinkHtml = 'Like what you see? Visit the ' +\n",
              "            '<a target=\"_blank\" href=https://colab.research.google.com/notebooks/data_table.ipynb>data table notebook</a>'\n",
              "            + ' to learn more about interactive tables.';\n",
              "          element.innerHTML = '';\n",
              "          dataTable['output_type'] = 'display_data';\n",
              "          await google.colab.output.renderOutput(dataTable, element);\n",
              "          const docLink = document.createElement('div');\n",
              "          docLink.innerHTML = docLinkHtml;\n",
              "          element.appendChild(docLink);\n",
              "        }\n",
              "      </script>\n",
              "    </div>\n",
              "  </div>\n",
              "  "
            ]
          },
          "metadata": {},
          "execution_count": 5
        }
      ]
    },
    {
      "cell_type": "code",
      "source": [
        "df.groupby('Category').describe()"
      ],
      "metadata": {
        "colab": {
          "base_uri": "https://localhost:8080/",
          "height": 175
        },
        "id": "M5qBPH-aP-Gk",
        "outputId": "a72d4557-57da-467b-eaf8-62b5ea99ee86"
      },
      "execution_count": 6,
      "outputs": [
        {
          "output_type": "execute_result",
          "data": {
            "text/plain": [
              "         Message                                                            \\\n",
              "           count unique                                                top   \n",
              "Category                                                                     \n",
              "ham         4825   4516                             Sorry, I'll call later   \n",
              "spam         747    641  Please call our customer service representativ...   \n",
              "\n",
              "               \n",
              "         freq  \n",
              "Category       \n",
              "ham        30  \n",
              "spam        4  "
            ],
            "text/html": [
              "\n",
              "  <div id=\"df-47ca6c37-b7e1-4b7e-8285-f0835a936160\">\n",
              "    <div class=\"colab-df-container\">\n",
              "      <div>\n",
              "<style scoped>\n",
              "    .dataframe tbody tr th:only-of-type {\n",
              "        vertical-align: middle;\n",
              "    }\n",
              "\n",
              "    .dataframe tbody tr th {\n",
              "        vertical-align: top;\n",
              "    }\n",
              "\n",
              "    .dataframe thead tr th {\n",
              "        text-align: left;\n",
              "    }\n",
              "\n",
              "    .dataframe thead tr:last-of-type th {\n",
              "        text-align: right;\n",
              "    }\n",
              "</style>\n",
              "<table border=\"1\" class=\"dataframe\">\n",
              "  <thead>\n",
              "    <tr>\n",
              "      <th></th>\n",
              "      <th colspan=\"4\" halign=\"left\">Message</th>\n",
              "    </tr>\n",
              "    <tr>\n",
              "      <th></th>\n",
              "      <th>count</th>\n",
              "      <th>unique</th>\n",
              "      <th>top</th>\n",
              "      <th>freq</th>\n",
              "    </tr>\n",
              "    <tr>\n",
              "      <th>Category</th>\n",
              "      <th></th>\n",
              "      <th></th>\n",
              "      <th></th>\n",
              "      <th></th>\n",
              "    </tr>\n",
              "  </thead>\n",
              "  <tbody>\n",
              "    <tr>\n",
              "      <th>ham</th>\n",
              "      <td>4825</td>\n",
              "      <td>4516</td>\n",
              "      <td>Sorry, I'll call later</td>\n",
              "      <td>30</td>\n",
              "    </tr>\n",
              "    <tr>\n",
              "      <th>spam</th>\n",
              "      <td>747</td>\n",
              "      <td>641</td>\n",
              "      <td>Please call our customer service representativ...</td>\n",
              "      <td>4</td>\n",
              "    </tr>\n",
              "  </tbody>\n",
              "</table>\n",
              "</div>\n",
              "      <button class=\"colab-df-convert\" onclick=\"convertToInteractive('df-47ca6c37-b7e1-4b7e-8285-f0835a936160')\"\n",
              "              title=\"Convert this dataframe to an interactive table.\"\n",
              "              style=\"display:none;\">\n",
              "        \n",
              "  <svg xmlns=\"http://www.w3.org/2000/svg\" height=\"24px\"viewBox=\"0 0 24 24\"\n",
              "       width=\"24px\">\n",
              "    <path d=\"M0 0h24v24H0V0z\" fill=\"none\"/>\n",
              "    <path d=\"M18.56 5.44l.94 2.06.94-2.06 2.06-.94-2.06-.94-.94-2.06-.94 2.06-2.06.94zm-11 1L8.5 8.5l.94-2.06 2.06-.94-2.06-.94L8.5 2.5l-.94 2.06-2.06.94zm10 10l.94 2.06.94-2.06 2.06-.94-2.06-.94-.94-2.06-.94 2.06-2.06.94z\"/><path d=\"M17.41 7.96l-1.37-1.37c-.4-.4-.92-.59-1.43-.59-.52 0-1.04.2-1.43.59L10.3 9.45l-7.72 7.72c-.78.78-.78 2.05 0 2.83L4 21.41c.39.39.9.59 1.41.59.51 0 1.02-.2 1.41-.59l7.78-7.78 2.81-2.81c.8-.78.8-2.07 0-2.86zM5.41 20L4 18.59l7.72-7.72 1.47 1.35L5.41 20z\"/>\n",
              "  </svg>\n",
              "      </button>\n",
              "      \n",
              "  <style>\n",
              "    .colab-df-container {\n",
              "      display:flex;\n",
              "      flex-wrap:wrap;\n",
              "      gap: 12px;\n",
              "    }\n",
              "\n",
              "    .colab-df-convert {\n",
              "      background-color: #E8F0FE;\n",
              "      border: none;\n",
              "      border-radius: 50%;\n",
              "      cursor: pointer;\n",
              "      display: none;\n",
              "      fill: #1967D2;\n",
              "      height: 32px;\n",
              "      padding: 0 0 0 0;\n",
              "      width: 32px;\n",
              "    }\n",
              "\n",
              "    .colab-df-convert:hover {\n",
              "      background-color: #E2EBFA;\n",
              "      box-shadow: 0px 1px 2px rgba(60, 64, 67, 0.3), 0px 1px 3px 1px rgba(60, 64, 67, 0.15);\n",
              "      fill: #174EA6;\n",
              "    }\n",
              "\n",
              "    [theme=dark] .colab-df-convert {\n",
              "      background-color: #3B4455;\n",
              "      fill: #D2E3FC;\n",
              "    }\n",
              "\n",
              "    [theme=dark] .colab-df-convert:hover {\n",
              "      background-color: #434B5C;\n",
              "      box-shadow: 0px 1px 3px 1px rgba(0, 0, 0, 0.15);\n",
              "      filter: drop-shadow(0px 1px 2px rgba(0, 0, 0, 0.3));\n",
              "      fill: #FFFFFF;\n",
              "    }\n",
              "  </style>\n",
              "\n",
              "      <script>\n",
              "        const buttonEl =\n",
              "          document.querySelector('#df-47ca6c37-b7e1-4b7e-8285-f0835a936160 button.colab-df-convert');\n",
              "        buttonEl.style.display =\n",
              "          google.colab.kernel.accessAllowed ? 'block' : 'none';\n",
              "\n",
              "        async function convertToInteractive(key) {\n",
              "          const element = document.querySelector('#df-47ca6c37-b7e1-4b7e-8285-f0835a936160');\n",
              "          const dataTable =\n",
              "            await google.colab.kernel.invokeFunction('convertToInteractive',\n",
              "                                                     [key], {});\n",
              "          if (!dataTable) return;\n",
              "\n",
              "          const docLinkHtml = 'Like what you see? Visit the ' +\n",
              "            '<a target=\"_blank\" href=https://colab.research.google.com/notebooks/data_table.ipynb>data table notebook</a>'\n",
              "            + ' to learn more about interactive tables.';\n",
              "          element.innerHTML = '';\n",
              "          dataTable['output_type'] = 'display_data';\n",
              "          await google.colab.output.renderOutput(dataTable, element);\n",
              "          const docLink = document.createElement('div');\n",
              "          docLink.innerHTML = docLinkHtml;\n",
              "          element.appendChild(docLink);\n",
              "        }\n",
              "      </script>\n",
              "    </div>\n",
              "  </div>\n",
              "  "
            ]
          },
          "metadata": {},
          "execution_count": 6
        }
      ]
    },
    {
      "cell_type": "code",
      "source": [
        "import seaborn as sns\n",
        "sns.countplot(x = 'Category',data=df)"
      ],
      "metadata": {
        "colab": {
          "base_uri": "https://localhost:8080/",
          "height": 297
        },
        "id": "DXL7A6PkQDr1",
        "outputId": "2709bc2a-a469-40ec-a493-e055887422c2"
      },
      "execution_count": 7,
      "outputs": [
        {
          "output_type": "execute_result",
          "data": {
            "text/plain": [
              "<matplotlib.axes._subplots.AxesSubplot at 0x7f0b077c9fd0>"
            ]
          },
          "metadata": {},
          "execution_count": 7
        },
        {
          "output_type": "display_data",
          "data": {
            "text/plain": [
              "<Figure size 432x288 with 1 Axes>"
            ],
            "image/png": "[encoded data removed]"
          },
          "metadata": {
            "needs_background": "light"
          }
        }
      ]
    },
    {
      "cell_type": "code",
      "source": [
        "df['Category'].value_counts()"
      ],
      "metadata": {
        "colab": {
          "base_uri": "https://localhost:8080/"
        },
        "id": "93HWNJ8_QSDs",
        "outputId": "129176b2-50a1-45a7-8071-c0dbe457cb08"
      },
      "execution_count": 8,
      "outputs": [
        {
          "output_type": "execute_result",
          "data": {
            "text/plain": [
              "ham     4825\n",
              "spam     747\n",
              "Name: Category, dtype: int64"
            ]
          },
          "metadata": {},
          "execution_count": 8
        }
      ]
    },
    {
      "cell_type": "code",
      "source": [
        "# DownSampling to generate a balanced datasets(Need not always be accurate)\n",
        "\n",
        "df_spam = df[df['Category'] == 'spam']\n",
        "df_spam.shape"
      ],
      "metadata": {
        "colab": {
          "base_uri": "https://localhost:8080/"
        },
        "id": "1fjukR5AQZXM",
        "outputId": "7ae34f71-3270-4a0a-d78a-489afb5e652d"
      },
      "execution_count": 9,
      "outputs": [
        {
          "output_type": "execute_result",
          "data": {
            "text/plain": [
              "(747, 2)"
            ]
          },
          "metadata": {},
          "execution_count": 9
        }
      ]
    },
    {
      "cell_type": "code",
      "source": [
        "df_ham = df[df['Category'] == 'ham']\n",
        "df_ham.shape"
      ],
      "metadata": {
        "colab": {
          "base_uri": "https://localhost:8080/"
        },
        "id": "ltSKuPrMR62U",
        "outputId": "77886d1e-397b-4c72-dda4-2fc474b64c49"
      },
      "execution_count": 10,
      "outputs": [
        {
          "output_type": "execute_result",
          "data": {
            "text/plain": [
              "(4825, 2)"
            ]
          },
          "metadata": {},
          "execution_count": 10
        }
      ]
    },
    {
      "cell_type": "code",
      "source": [
        "df_ham_down = df_ham.sample(df_spam.shape[0])"
      ],
      "metadata": {
        "id": "iepP764iSDUM"
      },
      "execution_count": 11,
      "outputs": []
    },
    {
      "cell_type": "code",
      "source": [
        "df_ham_down.shape"
      ],
      "metadata": {
        "colab": {
          "base_uri": "https://localhost:8080/"
        },
        "id": "auzbKSyWSK9U",
        "outputId": "064e9326-2fe3-45af-c956-0283545197b5"
      },
      "execution_count": 12,
      "outputs": [
        {
          "output_type": "execute_result",
          "data": {
            "text/plain": [
              "(747, 2)"
            ]
          },
          "metadata": {},
          "execution_count": 12
        }
      ]
    },
    {
      "cell_type": "code",
      "source": [
        "df_balanced = pd.concat([df_spam,df_ham_down])"
      ],
      "metadata": {
        "id": "EZsTULtKSZij"
      },
      "execution_count": 13,
      "outputs": []
    },
    {
      "cell_type": "code",
      "source": [
        "df_balanced.shape"
      ],
      "metadata": {
        "colab": {
          "base_uri": "https://localhost:8080/"
        },
        "id": "DEg4nJJASnmL",
        "outputId": "924725a1-2a49-49b6-ec89-f57eb1e79d67"
      },
      "execution_count": 14,
      "outputs": [
        {
          "output_type": "execute_result",
          "data": {
            "text/plain": [
              "(1494, 2)"
            ]
          },
          "metadata": {},
          "execution_count": 14
        }
      ]
    },
    {
      "cell_type": "code",
      "source": [
        "df_balanced['Category'].value_counts()"
      ],
      "metadata": {
        "colab": {
          "base_uri": "https://localhost:8080/"
        },
        "id": "VNTRXA_MSp27",
        "outputId": "564a2028-ee8f-469b-ae3a-7fbd37b8d036"
      },
      "execution_count": 15,
      "outputs": [
        {
          "output_type": "execute_result",
          "data": {
            "text/plain": [
              "spam    747\n",
              "ham     747\n",
              "Name: Category, dtype: int64"
            ]
          },
          "metadata": {},
          "execution_count": 15
        }
      ]
    },
    {
      "cell_type": "code",
      "source": [
        "df_balanced['spam'] = df_balanced['Category'].map({'spam':1,'ham':0})"
      ],
      "metadata": {
        "id": "1xeqw6HDSsXq"
      },
      "execution_count": 16,
      "outputs": []
    },
    {
      "cell_type": "code",
      "source": [
        "df_balanced.sample(5)"
      ],
      "metadata": {
        "colab": {
          "base_uri": "https://localhost:8080/",
          "height": 206
        },
        "id": "huexLXOCT3a7",
        "outputId": "33637c7c-394e-4e9f-b941-32446d88ab77"
      },
      "execution_count": 17,
      "outputs": [
        {
          "output_type": "execute_result",
          "data": {
            "text/plain": [
              "     Category                                            Message  spam\n",
              "3420     spam  Do you want a new Video phone? 600 anytime any...     1\n",
              "1449     spam  As a registered optin subscriber ur draw 4 £10...     1\n",
              "4658     spam  PRIVATE! Your 2003 Account Statement for shows...     1\n",
              "2868      ham  Mum, i've sent you many many messages since i ...     0\n",
              "1350     spam  FREE2DAY sexy St George's Day pic of Jordan!Tx...     1"
            ],
            "text/html": [
              "\n",
              "  <div id=\"df-99629cb8-bb96-4347-970e-1cab77076ab4\">\n",
              "    <div class=\"colab-df-container\">\n",
              "      <div>\n",
              "<style scoped>\n",
              "    .dataframe tbody tr th:only-of-type {\n",
              "        vertical-align: middle;\n",
              "    }\n",
              "\n",
              "    .dataframe tbody tr th {\n",
              "        vertical-align: top;\n",
              "    }\n",
              "\n",
              "    .dataframe thead th {\n",
              "        text-align: right;\n",
              "    }\n",
              "</style>\n",
              "<table border=\"1\" class=\"dataframe\">\n",
              "  <thead>\n",
              "    <tr style=\"text-align: right;\">\n",
              "      <th></th>\n",
              "      <th>Category</th>\n",
              "      <th>Message</th>\n",
              "      <th>spam</th>\n",
              "    </tr>\n",
              "  </thead>\n",
              "  <tbody>\n",
              "    <tr>\n",
              "      <th>3420</th>\n",
              "      <td>spam</td>\n",
              "      <td>Do you want a new Video phone? 600 anytime any...</td>\n",
              "      <td>1</td>\n",
              "    </tr>\n",
              "    <tr>\n",
              "      <th>1449</th>\n",
              "      <td>spam</td>\n",
              "      <td>As a registered optin subscriber ur draw 4 £10...</td>\n",
              "      <td>1</td>\n",
              "    </tr>\n",
              "    <tr>\n",
              "      <th>4658</th>\n",
              "      <td>spam</td>\n",
              "      <td>PRIVATE! Your 2003 Account Statement for shows...</td>\n",
              "      <td>1</td>\n",
              "    </tr>\n",
              "    <tr>\n",
              "      <th>2868</th>\n",
              "      <td>ham</td>\n",
              "      <td>Mum, i've sent you many many messages since i ...</td>\n",
              "      <td>0</td>\n",
              "    </tr>\n",
              "    <tr>\n",
              "      <th>1350</th>\n",
              "      <td>spam</td>\n",
              "      <td>FREE2DAY sexy St George's Day pic of Jordan!Tx...</td>\n",
              "      <td>1</td>\n",
              "    </tr>\n",
              "  </tbody>\n",
              "</table>\n",
              "</div>\n",
              "      <button class=\"colab-df-convert\" onclick=\"convertToInteractive('df-99629cb8-bb96-4347-970e-1cab77076ab4')\"\n",
              "              title=\"Convert this dataframe to an interactive table.\"\n",
              "              style=\"display:none;\">\n",
              "        \n",
              "  <svg xmlns=\"http://www.w3.org/2000/svg\" height=\"24px\"viewBox=\"0 0 24 24\"\n",
              "       width=\"24px\">\n",
              "    <path d=\"M0 0h24v24H0V0z\" fill=\"none\"/>\n",
              "    <path d=\"M18.56 5.44l.94 2.06.94-2.06 2.06-.94-2.06-.94-.94-2.06-.94 2.06-2.06.94zm-11 1L8.5 8.5l.94-2.06 2.06-.94-2.06-.94L8.5 2.5l-.94 2.06-2.06.94zm10 10l.94 2.06.94-2.06 2.06-.94-2.06-.94-.94-2.06-.94 2.06-2.06.94z\"/><path d=\"M17.41 7.96l-1.37-1.37c-.4-.4-.92-.59-1.43-.59-.52 0-1.04.2-1.43.59L10.3 9.45l-7.72 7.72c-.78.78-.78 2.05 0 2.83L4 21.41c.39.39.9.59 1.41.59.51 0 1.02-.2 1.41-.59l7.78-7.78 2.81-2.81c.8-.78.8-2.07 0-2.86zM5.41 20L4 18.59l7.72-7.72 1.47 1.35L5.41 20z\"/>\n",
              "  </svg>\n",
              "      </button>\n",
              "      \n",
              "  <style>\n",
              "    .colab-df-container {\n",
              "      display:flex;\n",
              "      flex-wrap:wrap;\n",
              "      gap: 12px;\n",
              "    }\n",
              "\n",
              "    .colab-df-convert {\n",
              "      background-color: #E8F0FE;\n",
              "      border: none;\n",
              "      border-radius: 50%;\n",
              "      cursor: pointer;\n",
              "      display: none;\n",
              "      fill: #1967D2;\n",
              "      height: 32px;\n",
              "      padding: 0 0 0 0;\n",
              "      width: 32px;\n",
              "    }\n",
              "\n",
              "    .colab-df-convert:hover {\n",
              "      background-color: #E2EBFA;\n",
              "      box-shadow: 0px 1px 2px rgba(60, 64, 67, 0.3), 0px 1px 3px 1px rgba(60, 64, 67, 0.15);\n",
              "      fill: #174EA6;\n",
              "    }\n",
              "\n",
              "    [theme=dark] .colab-df-convert {\n",
              "      background-color: #3B4455;\n",
              "      fill: #D2E3FC;\n",
              "    }\n",
              "\n",
              "    [theme=dark] .colab-df-convert:hover {\n",
              "      background-color: #434B5C;\n",
              "      box-shadow: 0px 1px 3px 1px rgba(0, 0, 0, 0.15);\n",
              "      filter: drop-shadow(0px 1px 2px rgba(0, 0, 0, 0.3));\n",
              "      fill: #FFFFFF;\n",
              "    }\n",
              "  </style>\n",
              "\n",
              "      <script>\n",
              "        const buttonEl =\n",
              "          document.querySelector('#df-99629cb8-bb96-4347-970e-1cab77076ab4 button.colab-df-convert');\n",
              "        buttonEl.style.display =\n",
              "          google.colab.kernel.accessAllowed ? 'block' : 'none';\n",
              "\n",
              "        async function convertToInteractive(key) {\n",
              "          const element = document.querySelector('#df-99629cb8-bb96-4347-970e-1cab77076ab4');\n",
              "          const dataTable =\n",
              "            await google.colab.kernel.invokeFunction('convertToInteractive',\n",
              "                                                     [key], {});\n",
              "          if (!dataTable) return;\n",
              "\n",
              "          const docLinkHtml = 'Like what you see? Visit the ' +\n",
              "            '<a target=\"_blank\" href=https://colab.research.google.com/notebooks/data_table.ipynb>data table notebook</a>'\n",
              "            + ' to learn more about interactive tables.';\n",
              "          element.innerHTML = '';\n",
              "          dataTable['output_type'] = 'display_data';\n",
              "          await google.colab.output.renderOutput(dataTable, element);\n",
              "          const docLink = document.createElement('div');\n",
              "          docLink.innerHTML = docLinkHtml;\n",
              "          element.appendChild(docLink);\n",
              "        }\n",
              "      </script>\n",
              "    </div>\n",
              "  </div>\n",
              "  "
            ]
          },
          "metadata": {},
          "execution_count": 17
        }
      ]
    },
    {
      "cell_type": "code",
      "source": [
        "from sklearn.model_selection import train_test_split\n",
        "X_train,X_test,y_train,y_test = train_test_split(df_balanced['Message'],df_balanced['spam'],stratify=df_balanced['spam'])"
      ],
      "metadata": {
        "id": "26hPttJZT7c7"
      },
      "execution_count": 18,
      "outputs": []
    },
    {
      "cell_type": "code",
      "source": [
        "X_train.head()"
      ],
      "metadata": {
        "colab": {
          "base_uri": "https://localhost:8080/"
        },
        "id": "Fu4eDbjtUiya",
        "outputId": "32936c64-b812-4321-f837-930d630cdf67"
      },
      "execution_count": 19,
      "outputs": [
        {
          "output_type": "execute_result",
          "data": {
            "text/plain": [
              "3929       Babe ? I lost you ... Will you try rebooting ?\n",
              "1947    Hey we can go jazz power yoga hip hop kb and y...\n",
              "2473    Final Chance! Claim ur £150 worth of discount ...\n",
              "3141    sexy sexy cum and text me im wet and warm and ...\n",
              "1041    Today am going to college so am not able to at...\n",
              "Name: Message, dtype: object"
            ]
          },
          "metadata": {},
          "execution_count": 19
        }
      ]
    },
    {
      "cell_type": "markdown",
      "source": [
        "## Building the bert model"
      ],
      "metadata": {
        "id": "EbRu2bwCU5NP"
      }
    },
    {
      "cell_type": "code",
      "source": [
        "bert_preprocess = hub.KerasLayer(\"https://tfhub.dev/tensorflow/bert_en_uncased_preprocess/3\")\n",
        "bert_encoder = hub.KerasLayer(\"https://tfhub.dev/tensorflow/bert_en_uncased_L-12_H-768_A-12/4\")"
      ],
      "metadata": {
        "id": "VSqdi9QIUntz"
      },
      "execution_count": 20,
      "outputs": []
    },
    {
      "cell_type": "code",
      "source": [
        "def get_sentence_embeddings(sentences):\n",
        "    pre_text = bert_preprocess(sentences)\n",
        "    return bert_encoder(pre_text)['pooled_output']"
      ],
      "metadata": {
        "id": "UMgyqG8YU_Z-"
      },
      "execution_count": 21,
      "outputs": []
    },
    {
      "cell_type": "code",
      "source": [
        "get_sentence_embeddings([\"this is a sentence\"])"
      ],
      "metadata": {
        "colab": {
          "base_uri": "https://localhost:8080/"
        },
        "id": "QREp1QMbXSfq",
        "outputId": "87b3f6c8-c017-43c2-be31-171d2a9e1761"
      },
      "execution_count": 23,
      "outputs": [
        {
          "output_type": "execute_result",
          "data": {
            "text/plain": [
              "<tf.Tensor: shape=(1, 768), dtype=float32, numpy=\n",
              "array([[-0.93197095, -0.31706616,  0.3317523 ,  0.74996185,  0.08236458,\n",
              "        -0.24709168,  0.9229589 ,  0.21995763,  0.08136694, -0.99997   ,\n",
              "         0.17710869,  0.44701082,  0.98916787, -0.31915247,  0.94259316,\n",
              "        -0.6547567 , -0.14494407, -0.5860479 ,  0.42799258, -0.82318145,\n",
              "         0.6708771 ,  0.99306566,  0.7269624 ,  0.23767199,  0.3564552 ,\n",
              "         0.5622404 , -0.6335523 ,  0.95372957,  0.9640974 ,  0.75631225,\n",
              "        -0.8092259 ,  0.19736724, -0.9922905 , -0.24550194, -0.20268852,\n",
              "        -0.991937  ,  0.24354765, -0.79634047, -0.05710607, -0.03116028,\n",
              "        -0.9394003 ,  0.37898523,  0.999652  , -0.42726246,  0.27062723,\n",
              "        -0.38143164, -0.9999956 ,  0.20255789, -0.9184484 , -0.16336013,\n",
              "         0.00881719, -0.34842598,  0.20331839,  0.45568508,  0.4782328 ,\n",
              "         0.18817407, -0.03701189,  0.25953344, -0.17977515, -0.5924117 ,\n",
              "        -0.5951172 ,  0.31348312, -0.02362169, -0.9352794 , -0.14722657,\n",
              "        -0.34317914, -0.05578195, -0.26227278, -0.13642846,  0.02554613,\n",
              "         0.90040267,  0.31243616,  0.32075822, -0.8070144 , -0.3570446 ,\n",
              "         0.2166173 , -0.43063712,  1.        , -0.44274744, -0.98550457,\n",
              "         0.05899192, -0.25612336,  0.39971536,  0.6177084 , -0.35410392,\n",
              "        -1.        ,  0.36595818, -0.17107272, -0.99172467,  0.08451284,\n",
              "         0.39390796, -0.25624216, -0.02715688,  0.41269475, -0.18344525,\n",
              "        -0.28132665, -0.34908256, -0.1018172 , -0.13653597, -0.19477668,\n",
              "         0.11803138, -0.3256971 , -0.19430679, -0.30819857,  0.23569639,\n",
              "        -0.28521076, -0.52305925,  0.30967322, -0.3083723 ,  0.7480631 ,\n",
              "         0.33546242, -0.3172271 ,  0.37469554, -0.95850766,  0.5797697 ,\n",
              "        -0.30537942, -0.9891456 , -0.38817132, -0.9899931 ,  0.7528048 ,\n",
              "        -0.00589945, -0.21340443,  0.97334605,  0.2816323 ,  0.3084703 ,\n",
              "        -0.1103816 ,  0.08052482, -1.        , -0.1680571 , -0.45028046,\n",
              "         0.28720838, -0.20463741, -0.9857572 , -0.96145415,  0.6588079 ,\n",
              "         0.97202206,  0.18354625,  0.9991142 , -0.21170186,  0.94849443,\n",
              "         0.3834567 , -0.16143584, -0.39291406, -0.40042204,  0.58298945,\n",
              "         0.5765884 , -0.8394765 ,  0.19342422,  0.09310825, -0.184404  ,\n",
              "        -0.24004465, -0.327336  , -0.02571331, -0.94206244, -0.42784494,\n",
              "         0.9531604 ,  0.18313369,  0.12971745,  0.7447871 , -0.17909567,\n",
              "        -0.43111533,  0.8725943 ,  0.55994993,  0.35044682,  0.1115308 ,\n",
              "         0.45567116, -0.04512734,  0.53323996, -0.921811  ,  0.45788106,\n",
              "         0.44108087, -0.16923723,  0.01123238, -0.9837013 , -0.3200446 ,\n",
              "         0.5408194 ,  0.98913234,  0.80376446,  0.28323272,  0.1315776 ,\n",
              "        -0.334639  ,  0.18773425, -0.9556567 ,  0.98695177, -0.13843915,\n",
              "         0.14586377,  0.13451621, -0.01202377, -0.9244901 , -0.33393928,\n",
              "         0.8790845 , -0.02204744, -0.9184146 , -0.04086535, -0.5182843 ,\n",
              "        -0.4226319 , -0.12822288,  0.5994815 , -0.37934244, -0.40372673,\n",
              "        -0.13342386,  0.94537747,  0.9793125 ,  0.8189149 , -0.49895757,\n",
              "         0.54763836, -0.9066142 , -0.4713099 ,  0.06836907,  0.2656786 ,\n",
              "         0.10047039,  0.9950391 , -0.26688376, -0.16116211, -0.92958105,\n",
              "        -0.9854942 ,  0.03716866, -0.90361184,  0.03287562, -0.7396763 ,\n",
              "         0.38978732,  0.3298228 , -0.29566061,  0.3574097 , -0.9913462 ,\n",
              "        -0.870011  ,  0.29461735, -0.32736415,  0.5020239 , -0.27757338,\n",
              "         0.77932304,  0.22267082, -0.6743751 ,  0.8591961 ,  0.938267  ,\n",
              "         0.12300063, -0.7950716 ,  0.8846981 , -0.28603762,  0.9210847 ,\n",
              "        -0.6336002 ,  0.9910879 ,  0.28060982,  0.5028156 , -0.95193803,\n",
              "         0.14269497, -0.9469708 ,  0.17300461, -0.11355215, -0.6390003 ,\n",
              "        -0.0668024 ,  0.4387283 ,  0.2629044 ,  0.73740196, -0.549078  ,\n",
              "         0.9981521 , -0.79708445, -0.966058  ,  0.21859708,  0.0018231 ,\n",
              "        -0.992935  ,  0.3865878 ,  0.16730912, -0.1894167 , -0.4249299 ,\n",
              "        -0.44995552, -0.9738829 ,  0.91750836,  0.15242471,  0.99295604,\n",
              "        -0.2705715 , -0.94770896, -0.3477463 , -0.94072014, -0.16369146,\n",
              "        -0.25106838,  0.63697493, -0.10782361, -0.9615194 ,  0.50565135,\n",
              "         0.60871136,  0.3842652 ,  0.34155637,  0.99783677,  0.99991745,\n",
              "         0.9837185 ,  0.89561474,  0.91577184, -0.973183  , -0.26362538,\n",
              "         0.99997884, -0.81440496, -0.99999905, -0.9662086 , -0.58980525,\n",
              "         0.45229584, -1.        , -0.13073324, -0.01118146, -0.9332854 ,\n",
              "        -0.28618485,  0.9879796 ,  0.9938539 , -1.        ,  0.9156051 ,\n",
              "         0.94992536, -0.4618016 ,  0.38892   , -0.27496535,  0.9824135 ,\n",
              "         0.50343215,  0.46662953, -0.17517897,  0.32327363, -0.1934893 ,\n",
              "        -0.88081855,  0.05455916,  0.1572902 ,  0.88712776,  0.14394806,\n",
              "        -0.7310677 , -0.9338406 ,  0.11695644, -0.03768969, -0.23583423,\n",
              "        -0.9662983 , -0.19973296, -0.39777356,  0.69614774,  0.2799777 ,\n",
              "         0.19799565, -0.82652026,  0.2699151 , -0.46876067,  0.5285849 ,\n",
              "         0.48778382, -0.93929577, -0.6353331 ,  0.11590856, -0.5710377 ,\n",
              "         0.22650933, -0.96998197,  0.9748169 , -0.24472369, -0.02218601,\n",
              "         1.        ,  0.03372362, -0.8994746 ,  0.33436218,  0.19072361,\n",
              "        -0.58878744,  1.        ,  0.46558368, -0.98826903, -0.4273982 ,\n",
              "         0.2779392 , -0.44130522, -0.41155383,  0.9989809 , -0.25303432,\n",
              "         0.16515546,  0.15454924,  0.97978956, -0.9945699 ,  0.68848103,\n",
              "        -0.8985002 , -0.9701276 ,  0.96612537,  0.9538659 , -0.20460397,\n",
              "        -0.7871552 ,  0.06052848, -0.1604782 ,  0.29006907, -0.97503924,\n",
              "         0.59847045,  0.4997326 , -0.17567246,  0.9171487 , -0.88601005,\n",
              "        -0.4109775 ,  0.4958145 ,  0.12595767,  0.54514724,  0.40831554,\n",
              "         0.43644288, -0.30580425,  0.08732965, -0.27335367, -0.36739832,\n",
              "        -0.9696806 ,  0.09768951,  1.        ,  0.15759379, -0.08869475,\n",
              "        -0.01052266, -0.16075304, -0.25602815,  0.43577597,  0.54489183,\n",
              "        -0.2553151 , -0.8541986 ,  0.18808912, -0.95511335, -0.9904501 ,\n",
              "         0.7862019 ,  0.25275752, -0.3443101 ,  0.9998686 ,  0.33374923,\n",
              "         0.12355973, -0.08625609,  0.51766783,  0.10784806,  0.5634767 ,\n",
              "        -0.3703713 ,  0.9839649 , -0.33178   ,  0.34092963,  0.89262295,\n",
              "         0.11163608, -0.39580998, -0.7003803 ,  0.00250538, -0.9568932 ,\n",
              "         0.00937471, -0.9666598 ,  0.9776171 , -0.30534327,  0.32483956,\n",
              "         0.2219735 ,  0.2851568 ,  1.        ,  0.13848463,  0.69462126,\n",
              "        -0.6948494 ,  0.9133501 , -0.96997935, -0.8471393 , -0.3232205 ,\n",
              "        -0.12089267,  0.42092085, -0.24371709,  0.2531695 , -0.97675884,\n",
              "        -0.2537016 , -0.01119939, -0.98822445, -0.9910347 ,  0.4939683 ,\n",
              "         0.79934436,  0.040947  , -0.7379948 , -0.60020304, -0.6691873 ,\n",
              "         0.20116751, -0.28194857, -0.9478234 ,  0.6877448 , -0.34391814,\n",
              "         0.3966163 , -0.3438378 ,  0.42156026, -0.14680976,  0.8125582 ,\n",
              "        -0.08552895,  0.18989287, -0.07396913, -0.8240024 ,  0.7872883 ,\n",
              "        -0.8771124 ,  0.10331421, -0.16386378,  1.        , -0.60533744,\n",
              "         0.29542106,  0.7827753 ,  0.7829448 , -0.13460639,  0.18807699,\n",
              "         0.3556007 ,  0.17348771,  0.29348484,  0.18261617, -0.86470306,\n",
              "        -0.2596885 ,  0.61284584, -0.07381881, -0.20223713,  0.84912324,\n",
              "         0.45455045, -0.00784495,  0.01472195,  0.11921594,  0.99944913,\n",
              "        -0.16994135, -0.2056007 , -0.5900489 , -0.13036528, -0.28483328,\n",
              "        -0.5533185 ,  0.99999964,  0.31590417, -0.16184318, -0.99274766,\n",
              "        -0.07196949, -0.93352306,  0.99970746,  0.83771515, -0.8727172 ,\n",
              "         0.6125004 ,  0.16369902, -0.12041147,  0.7949952 , -0.22762612,\n",
              "        -0.2799455 ,  0.15865639,  0.12596548,  0.96424335, -0.44188097,\n",
              "        -0.97110116, -0.65488714,  0.34959945, -0.9714882 ,  0.9815133 ,\n",
              "        -0.60901433, -0.22574492, -0.39411592,  0.28231445,  0.889801  ,\n",
              "         0.02531441, -0.9799966 , -0.12770672,  0.03744421,  0.9793395 ,\n",
              "         0.2607953 , -0.40938932, -0.9560856 , -0.3054012 ,  0.11261358,\n",
              "         0.20455217, -0.92649615,  0.9814202 , -0.9790801 ,  0.3073456 ,\n",
              "         0.9999995 ,  0.38207078, -0.721555  ,  0.1910738 , -0.58670646,\n",
              "         0.20197868, -0.02092059,  0.6181595 , -0.9674203 , -0.348332  ,\n",
              "        -0.269883  ,  0.2340124 , -0.24094985,  0.36895022,  0.7182979 ,\n",
              "         0.19419861, -0.34779352, -0.4867718 , -0.18835397,  0.39402357,\n",
              "         0.77324367, -0.18192372, -0.15790497,  0.0837353 , -0.194798  ,\n",
              "        -0.9023047 , -0.27786472, -0.3232364 , -0.99659413,  0.6560999 ,\n",
              "        -1.        , -0.14771695, -0.5875325 , -0.27041236,  0.87830025,\n",
              "         0.33309022,  0.28842175, -0.8274803 ,  0.2986045 ,  0.8265894 ,\n",
              "         0.72179914, -0.30190223,  0.43111774, -0.8018843 ,  0.18091416,\n",
              "        -0.11435793,  0.2526842 ,  0.12328902,  0.77966994, -0.1807231 ,\n",
              "         1.        ,  0.09205607, -0.63928723, -0.9799843 ,  0.27053493,\n",
              "        -0.2610356 ,  0.9999792 , -0.9524498 , -0.9694934 ,  0.316831  ,\n",
              "        -0.61688286, -0.8465925 ,  0.2719094 ,  0.09614163, -0.6357359 ,\n",
              "        -0.5434312 ,  0.9688234 ,  0.9064003 , -0.35738105,  0.45483965,\n",
              "        -0.3110281 , -0.47933397, -0.03247619, -0.15441605,  0.9899234 ,\n",
              "         0.42599282,  0.9587629 ,  0.5914849 , -0.25553545,  0.97561914,\n",
              "         0.28464445,  0.7309776 ,  0.0708758 ,  0.99999964,  0.30053803,\n",
              "        -0.9574517 ,  0.2933106 , -0.99251133, -0.26404205, -0.9701682 ,\n",
              "         0.19077739,  0.17464627,  0.9250515 , -0.3348861 ,  0.97418267,\n",
              "         0.20193848,  0.11212065,  0.21842411,  0.5587665 ,  0.29496908,\n",
              "        -0.93851537, -0.99067485, -0.98964703,  0.39612845, -0.4690025 ,\n",
              "        -0.11033359,  0.3331916 ,  0.18805613,  0.4183831 ,  0.32950488,\n",
              "        -0.9999991 ,  0.9482259 ,  0.45090762, -0.03428287,  0.96927196,\n",
              "         0.11884621,  0.38314977,  0.23624869, -0.99111474, -0.9776717 ,\n",
              "        -0.38992018, -0.36450768,  0.82185954,  0.6470054 ,  0.90738565,\n",
              "         0.35720935, -0.44609964, -0.45728832,  0.2029292 , -0.48304448,\n",
              "        -0.9943589 ,  0.3755181 ,  0.34973058, -0.9757604 ,  0.9688813 ,\n",
              "        -0.4457782 , -0.2669527 ,  0.6634207 , -0.01320472,  0.94483393,\n",
              "         0.8030201 ,  0.59588176,  0.11576886,  0.59565306,  0.90995175,\n",
              "         0.97250247,  0.99212927,  0.1127945 ,  0.82591426,  0.4092877 ,\n",
              "         0.47782707,  0.5957461 , -0.95265454,  0.20890944,  0.19041544,\n",
              "        -0.09756812,  0.23158595, -0.2140916 , -0.9771354 ,  0.61260587,\n",
              "        -0.22974731,  0.5226462 , -0.38597146,  0.11645475, -0.46059293,\n",
              "        -0.2813703 , -0.8446191 , -0.4900294 ,  0.4574645 ,  0.42046446,\n",
              "         0.9386747 ,  0.40282953, -0.08133926, -0.6578208 , -0.19173336,\n",
              "         0.24680717, -0.9477871 ,  0.95273226, -0.01335546,  0.44302678,\n",
              "         0.19600981,  0.02433591,  0.6793622 , -0.37724367, -0.4396316 ,\n",
              "        -0.26076555, -0.8614591 ,  0.86906147, -0.27312717, -0.5057521 ,\n",
              "        -0.5263416 ,  0.6320445 ,  0.32392895,  0.9953653 ,  0.04328489,\n",
              "         0.19846646, -0.14977476, -0.21318603,  0.33542877, -0.27326822,\n",
              "        -0.9999993 ,  0.41768754,  0.3595641 , -0.09545254, -0.05510091,\n",
              "        -0.19561625,  0.32985765, -0.9827251 , -0.13933444,  0.37562156,\n",
              "        -0.00802746, -0.5084946 , -0.17977576,  0.36033857,  0.7581238 ,\n",
              "         0.46585268,  0.9174494 ,  0.11634774,  0.62031406,  0.42264035,\n",
              "        -0.21394055, -0.6345647 ,  0.9277786 ]], dtype=float32)>"
            ]
          },
          "metadata": {},
          "execution_count": 23
        }
      ]
    },
    {
      "cell_type": "code",
      "source": [
        "from sklearn.metrics.pairwise import cosine_similarity\n",
        "\n",
        "vec1 = get_sentence_embeddings(['damn'])\n",
        "vec2 = get_sentence_embeddings(['tew'])"
      ],
      "metadata": {
        "id": "TmDB8knUXXWR"
      },
      "execution_count": 40,
      "outputs": []
    },
    {
      "cell_type": "code",
      "source": [
        "cosine_similarity(vec1,vec2)"
      ],
      "metadata": {
        "colab": {
          "base_uri": "https://localhost:8080/"
        },
        "id": "5M0ZUAgKX81p",
        "outputId": "b027e4c4-4b91-4cbd-e275-5d782f144279"
      },
      "execution_count": 41,
      "outputs": [
        {
          "output_type": "execute_result",
          "data": {
            "text/plain": [
              "array([[0.835726]], dtype=float32)"
            ]
          },
          "metadata": {},
          "execution_count": 41
        }
      ]
    },
    {
      "cell_type": "markdown",
      "source": [
        "### Building a functional model"
      ],
      "metadata": {
        "id": "uzNWRpjLYucN"
      }
    },
    {
      "cell_type": "code",
      "source": [
        "text_input = tf.keras.layers.Input(shape=(),dtype=tf.string,name='text')"
      ],
      "metadata": {
        "id": "Jo6_VxKLYGIQ"
      },
      "execution_count": 43,
      "outputs": []
    },
    {
      "cell_type": "code",
      "source": [
        "prepro = bert_preprocess(text_input)\n",
        "outputs = bert_encoder(prepro)\n",
        "layer = tf.keras.layers.Dropout(0.1,name='dropout')(outputs['pooled_output'])\n",
        "layer = tf.keras.layers.Dense(1,activation='sigmoid',name='output')(layer)\n",
        "\n",
        "model = tf.keras.Model(inputs=text_input,outputs=layer)"
      ],
      "metadata": {
        "id": "nHJo-X_9ZVUA"
      },
      "execution_count": 44,
      "outputs": []
    },
    {
      "cell_type": "code",
      "source": [
        "model.summary()"
      ],
      "metadata": {
        "colab": {
          "base_uri": "https://localhost:8080/"
        },
        "id": "k0aoaI0lahEJ",
        "outputId": "c8626552-86ed-48da-bc63-f733e8fce57c"
      },
      "execution_count": 45,
      "outputs": [
        {
          "output_type": "stream",
          "name": "stdout",
          "text": [
            "Model: \"model\"\n",
            "__________________________________________________________________________________________________\n",
            " Layer (type)                   Output Shape         Param #     Connected to                     \n",
            "==================================================================================================\n",
            " text (InputLayer)              [(None,)]            0           []                               \n",
            "                                                                                                  \n",
            " keras_layer (KerasLayer)       {'input_mask': (Non  0           ['text[0][0]']                   \n",
            "                                e, 128),                                                          \n",
            "                                 'input_word_ids':                                                \n",
            "                                (None, 128),                                                      \n",
            "                                 'input_type_ids':                                                \n",
            "                                (None, 128)}                                                      \n",
            "                                                                                                  \n",
            " keras_layer_1 (KerasLayer)     {'encoder_outputs':  109482241   ['keras_layer[0][0]',            \n",
            "                                 [(None, 128, 768),               'keras_layer[0][1]',            \n",
            "                                 (None, 128, 768),                'keras_layer[0][2]']            \n",
            "                                 (None, 128, 768),                                                \n",
            "                                 (None, 128, 768),                                                \n",
            "                                 (None, 128, 768),                                                \n",
            "                                 (None, 128, 768),                                                \n",
            "                                 (None, 128, 768),                                                \n",
            "                                 (None, 128, 768),                                                \n",
            "                                 (None, 128, 768),                                                \n",
            "                                 (None, 128, 768),                                                \n",
            "                                 (None, 128, 768),                                                \n",
            "                                 (None, 128, 768)],                                               \n",
            "                                 'default': (None,                                                \n",
            "                                768),                                                             \n",
            "                                 'sequence_output':                                               \n",
            "                                 (None, 128, 768),                                                \n",
            "                                 'pooled_output': (                                               \n",
            "                                None, 768)}                                                       \n",
            "                                                                                                  \n",
            " dropout (Dropout)              (None, 768)          0           ['keras_layer_1[0][13]']         \n",
            "                                                                                                  \n",
            " output (Dense)                 (None, 1)            769         ['dropout[0][0]']                \n",
            "                                                                                                  \n",
            "==================================================================================================\n",
            "Total params: 109,483,010\n",
            "Trainable params: 769\n",
            "Non-trainable params: 109,482,241\n",
            "__________________________________________________________________________________________________\n"
          ]
        }
      ]
    },
    {
      "cell_type": "code",
      "source": [
        "# Model compile\n",
        "model.compile(optimizer='adam',\n",
        "               loss='binary_crossentropy',\n",
        "               metrics=['accuracy'])"
      ],
      "metadata": {
        "id": "1P7zWyeOajhI"
      },
      "execution_count": 50,
      "outputs": []
    },
    {
      "cell_type": "code",
      "source": [
        "model.fit(X_train,y_train,epochs=10)"
      ],
      "metadata": {
        "colab": {
          "base_uri": "https://localhost:8080/"
        },
        "id": "uUy47YkTa6on",
        "outputId": "01488486-068a-4c86-f0e2-0cb5bf712baa"
      },
      "execution_count": 51,
      "outputs": [
        {
          "output_type": "stream",
          "name": "stdout",
          "text": [
            "Epoch 1/10\n",
            "35/35 [==============================] - 20s 326ms/step - loss: 0.6834 - accuracy: 0.5839\n",
            "Epoch 2/10\n",
            "35/35 [==============================] - 12s 331ms/step - loss: 0.5491 - accuracy: 0.7723\n",
            "Epoch 3/10\n",
            "35/35 [==============================] - 12s 345ms/step - loss: 0.4582 - accuracy: 0.8625\n",
            "Epoch 4/10\n",
            "35/35 [==============================] - 12s 344ms/step - loss: 0.4112 - accuracy: 0.8616\n",
            "Epoch 5/10\n",
            "35/35 [==============================] - 11s 328ms/step - loss: 0.3789 - accuracy: 0.8759\n",
            "Epoch 6/10\n",
            "35/35 [==============================] - 11s 325ms/step - loss: 0.3515 - accuracy: 0.8741\n",
            "Epoch 7/10\n",
            "35/35 [==============================] - 11s 326ms/step - loss: 0.3258 - accuracy: 0.9045\n",
            "Epoch 8/10\n",
            "35/35 [==============================] - 11s 326ms/step - loss: 0.3096 - accuracy: 0.9027\n",
            "Epoch 9/10\n",
            "35/35 [==============================] - 11s 326ms/step - loss: 0.2973 - accuracy: 0.9045\n",
            "Epoch 10/10\n",
            "35/35 [==============================] - 11s 327ms/step - loss: 0.2822 - accuracy: 0.9071\n"
          ]
        },
        {
          "output_type": "execute_result",
          "data": {
            "text/plain": [
              "<keras.callbacks.History at 0x7f0a6a5db090>"
            ]
          },
          "metadata": {},
          "execution_count": 51
        }
      ]
    },
    {
      "cell_type": "code",
      "source": [
        "model.evaluate(X_test,y_test)"
      ],
      "metadata": {
        "colab": {
          "base_uri": "https://localhost:8080/"
        },
        "id": "YjgitLS0a_NH",
        "outputId": "966be227-c6fa-40cd-a9aa-f7fda1744c54"
      },
      "execution_count": 52,
      "outputs": [
        {
          "output_type": "stream",
          "name": "stdout",
          "text": [
            "12/12 [==============================] - 6s 378ms/step - loss: 0.2889 - accuracy: 0.8957\n"
          ]
        },
        {
          "output_type": "execute_result",
          "data": {
            "text/plain": [
              "[0.28889724612236023, 0.8957219123840332]"
            ]
          },
          "metadata": {},
          "execution_count": 52
        }
      ]
    },
    {
      "cell_type": "code",
      "source": [
        "prediction = model.predict(X_test)"
      ],
      "metadata": {
        "colab": {
          "base_uri": "https://localhost:8080/"
        },
        "id": "YGFwuXPeb-DY",
        "outputId": "6ac6ee23-7c06-453b-9996-5e75274edf90"
      },
      "execution_count": 59,
      "outputs": [
        {
          "output_type": "stream",
          "name": "stdout",
          "text": [
            "12/12 [==============================] - 5s 335ms/step\n"
          ]
        }
      ]
    },
    {
      "cell_type": "code",
      "source": [
        "prediction"
      ],
      "metadata": {
        "colab": {
          "base_uri": "https://localhost:8080/"
        },
        "id": "b9sRQ5AicCGP",
        "outputId": "8d515d87-bce7-4f1e-e6d1-dbbfafa2dcd1"
      },
      "execution_count": 60,
      "outputs": [
        {
          "output_type": "execute_result",
          "data": {
            "text/plain": [
              "array([[0.5175286 ],\n",
              "       [0.35200468],\n",
              "       [0.2838256 ],\n",
              "       [0.24733177],\n",
              "       [0.08472799],\n",
              "       [0.90404963],\n",
              "       [0.21076146],\n",
              "       [0.2703876 ],\n",
              "       [0.74599487],\n",
              "       [0.0461094 ],\n",
              "       [0.95685434],\n",
              "       [0.9606269 ],\n",
              "       [0.90137523],\n",
              "       [0.97389525],\n",
              "       [0.95689267],\n",
              "       [0.88935596],\n",
              "       [0.85563433],\n",
              "       [0.24925183],\n",
              "       [0.9641645 ],\n",
              "       [0.09837174],\n",
              "       [0.28253424],\n",
              "       [0.03818241],\n",
              "       [0.24556541],\n",
              "       [0.5475122 ],\n",
              "       [0.73779434],\n",
              "       [0.6516432 ],\n",
              "       [0.16112961],\n",
              "       [0.97707236],\n",
              "       [0.11023905],\n",
              "       [0.07918604],\n",
              "       [0.26304197],\n",
              "       [0.96467793],\n",
              "       [0.05600924],\n",
              "       [0.33113426],\n",
              "       [0.9687035 ],\n",
              "       [0.21905194],\n",
              "       [0.87861305],\n",
              "       [0.35677335],\n",
              "       [0.26719823],\n",
              "       [0.0729986 ],\n",
              "       [0.95887405],\n",
              "       [0.97212076],\n",
              "       [0.3527869 ],\n",
              "       [0.20317394],\n",
              "       [0.3843212 ],\n",
              "       [0.06523585],\n",
              "       [0.9504639 ],\n",
              "       [0.33931765],\n",
              "       [0.25165984],\n",
              "       [0.13689059],\n",
              "       [0.84983826],\n",
              "       [0.3662267 ],\n",
              "       [0.09998041],\n",
              "       [0.18675742],\n",
              "       [0.894017  ],\n",
              "       [0.96309507],\n",
              "       [0.17064884],\n",
              "       [0.96565217],\n",
              "       [0.31405154],\n",
              "       [0.836957  ],\n",
              "       [0.93501794],\n",
              "       [0.14052479],\n",
              "       [0.91919625],\n",
              "       [0.94364864],\n",
              "       [0.04878857],\n",
              "       [0.26315048],\n",
              "       [0.03591508],\n",
              "       [0.9410129 ],\n",
              "       [0.8077678 ],\n",
              "       [0.12842168],\n",
              "       [0.7989124 ],\n",
              "       [0.9207692 ],\n",
              "       [0.10530502],\n",
              "       [0.35702342],\n",
              "       [0.12283712],\n",
              "       [0.07345995],\n",
              "       [0.9044253 ],\n",
              "       [0.28895745],\n",
              "       [0.8613042 ],\n",
              "       [0.7496226 ],\n",
              "       [0.0356491 ],\n",
              "       [0.8558892 ],\n",
              "       [0.21664126],\n",
              "       [0.10000546],\n",
              "       [0.7956374 ],\n",
              "       [0.9454731 ],\n",
              "       [0.8949901 ],\n",
              "       [0.93985236],\n",
              "       [0.10363595],\n",
              "       [0.8429937 ],\n",
              "       [0.95266277],\n",
              "       [0.15819275],\n",
              "       [0.10266341],\n",
              "       [0.6313583 ],\n",
              "       [0.03375493],\n",
              "       [0.93585175],\n",
              "       [0.06459571],\n",
              "       [0.43272492],\n",
              "       [0.09026577],\n",
              "       [0.9541975 ],\n",
              "       [0.05015201],\n",
              "       [0.04606894],\n",
              "       [0.11613723],\n",
              "       [0.7520555 ],\n",
              "       [0.9940479 ],\n",
              "       [0.81009364],\n",
              "       [0.86730134],\n",
              "       [0.510754  ],\n",
              "       [0.9450708 ],\n",
              "       [0.94426227],\n",
              "       [0.9284115 ],\n",
              "       [0.24840786],\n",
              "       [0.8175737 ],\n",
              "       [0.93002325],\n",
              "       [0.9140924 ],\n",
              "       [0.52466303],\n",
              "       [0.16394265],\n",
              "       [0.29865098],\n",
              "       [0.8777864 ],\n",
              "       [0.15232095],\n",
              "       [0.04748458],\n",
              "       [0.86859083],\n",
              "       [0.81702906],\n",
              "       [0.5199725 ],\n",
              "       [0.32365832],\n",
              "       [0.12450782],\n",
              "       [0.8545911 ],\n",
              "       [0.4844125 ],\n",
              "       [0.8905432 ],\n",
              "       [0.9567869 ],\n",
              "       [0.9614207 ],\n",
              "       [0.03136579],\n",
              "       [0.14331308],\n",
              "       [0.88982695],\n",
              "       [0.08160602],\n",
              "       [0.8732068 ],\n",
              "       [0.0557489 ],\n",
              "       [0.926713  ],\n",
              "       [0.7024655 ],\n",
              "       [0.9450708 ],\n",
              "       [0.10127095],\n",
              "       [0.7004153 ],\n",
              "       [0.8367692 ],\n",
              "       [0.20621645],\n",
              "       [0.14526746],\n",
              "       [0.5353313 ],\n",
              "       [0.2694506 ],\n",
              "       [0.89874816],\n",
              "       [0.9091527 ],\n",
              "       [0.92406493],\n",
              "       [0.8082533 ],\n",
              "       [0.13236976],\n",
              "       [0.822543  ],\n",
              "       [0.5883355 ],\n",
              "       [0.91849416],\n",
              "       [0.68093055],\n",
              "       [0.92420954],\n",
              "       [0.53340566],\n",
              "       [0.07842875],\n",
              "       [0.04444778],\n",
              "       [0.86090857],\n",
              "       [0.7644373 ],\n",
              "       [0.8401277 ],\n",
              "       [0.9799733 ],\n",
              "       [0.7747028 ],\n",
              "       [0.04550356],\n",
              "       [0.02963198],\n",
              "       [0.50100523],\n",
              "       [0.30209264],\n",
              "       [0.9220513 ],\n",
              "       [0.67089844],\n",
              "       [0.81993127],\n",
              "       [0.24909757],\n",
              "       [0.76207364],\n",
              "       [0.68831104],\n",
              "       [0.932089  ],\n",
              "       [0.13885322],\n",
              "       [0.9118548 ],\n",
              "       [0.8630758 ],\n",
              "       [0.9248076 ],\n",
              "       [0.12901407],\n",
              "       [0.47493804],\n",
              "       [0.3248948 ],\n",
              "       [0.9466845 ],\n",
              "       [0.91012514],\n",
              "       [0.3554339 ],\n",
              "       [0.15557647],\n",
              "       [0.9709644 ],\n",
              "       [0.18427728],\n",
              "       [0.09222292],\n",
              "       [0.6010685 ],\n",
              "       [0.9376719 ],\n",
              "       [0.9548065 ],\n",
              "       [0.84334844],\n",
              "       [0.6316596 ],\n",
              "       [0.0321709 ],\n",
              "       [0.46056828],\n",
              "       [0.9405896 ],\n",
              "       [0.11606275],\n",
              "       [0.97845477],\n",
              "       [0.9307711 ],\n",
              "       [0.17225839],\n",
              "       [0.9315099 ],\n",
              "       [0.05257365],\n",
              "       [0.01694722],\n",
              "       [0.6394458 ],\n",
              "       [0.9029539 ],\n",
              "       [0.01750219],\n",
              "       [0.01966264],\n",
              "       [0.9104263 ],\n",
              "       [0.8495584 ],\n",
              "       [0.83298784],\n",
              "       [0.9210455 ],\n",
              "       [0.40848994],\n",
              "       [0.4703611 ],\n",
              "       [0.8419798 ],\n",
              "       [0.17967834],\n",
              "       [0.13984649],\n",
              "       [0.6551429 ],\n",
              "       [0.3830182 ],\n",
              "       [0.5291948 ],\n",
              "       [0.81267637],\n",
              "       [0.15594754],\n",
              "       [0.90404963],\n",
              "       [0.15453857],\n",
              "       [0.6634733 ],\n",
              "       [0.968856  ],\n",
              "       [0.83298784],\n",
              "       [0.9220513 ],\n",
              "       [0.9598782 ],\n",
              "       [0.97761494],\n",
              "       [0.1356458 ],\n",
              "       [0.5110097 ],\n",
              "       [0.08129629],\n",
              "       [0.11931761],\n",
              "       [0.9410129 ],\n",
              "       [0.9240833 ],\n",
              "       [0.8829485 ],\n",
              "       [0.06577577],\n",
              "       [0.31073982],\n",
              "       [0.02666363],\n",
              "       [0.06281877],\n",
              "       [0.5658736 ],\n",
              "       [0.7727065 ],\n",
              "       [0.97389525],\n",
              "       [0.7274879 ],\n",
              "       [0.87786907],\n",
              "       [0.6955073 ],\n",
              "       [0.06599723],\n",
              "       [0.69404936],\n",
              "       [0.809983  ],\n",
              "       [0.9614207 ],\n",
              "       [0.96798974],\n",
              "       [0.08544984],\n",
              "       [0.8062746 ],\n",
              "       [0.06423168],\n",
              "       [0.95422804],\n",
              "       [0.17409997],\n",
              "       [0.61307776],\n",
              "       [0.9456675 ],\n",
              "       [0.8287558 ],\n",
              "       [0.35903788],\n",
              "       [0.07974192],\n",
              "       [0.87134016],\n",
              "       [0.5366807 ],\n",
              "       [0.8898737 ],\n",
              "       [0.86993355],\n",
              "       [0.84622765],\n",
              "       [0.157226  ],\n",
              "       [0.9404636 ],\n",
              "       [0.06717201],\n",
              "       [0.0570972 ],\n",
              "       [0.8063127 ],\n",
              "       [0.61307776],\n",
              "       [0.17723598],\n",
              "       [0.89416945],\n",
              "       [0.9602078 ],\n",
              "       [0.89538836],\n",
              "       [0.12066162],\n",
              "       [0.18919231],\n",
              "       [0.41155368],\n",
              "       [0.55240345],\n",
              "       [0.88642204],\n",
              "       [0.33907977],\n",
              "       [0.98717856],\n",
              "       [0.19441204],\n",
              "       [0.31172758],\n",
              "       [0.12561424],\n",
              "       [0.927003  ],\n",
              "       [0.7581588 ],\n",
              "       [0.96480775],\n",
              "       [0.97789073],\n",
              "       [0.9348486 ],\n",
              "       [0.8955074 ],\n",
              "       [0.9613439 ],\n",
              "       [0.94531316],\n",
              "       [0.8155345 ],\n",
              "       [0.4623072 ],\n",
              "       [0.82908857],\n",
              "       [0.7001049 ],\n",
              "       [0.30363086],\n",
              "       [0.19500645],\n",
              "       [0.9539209 ],\n",
              "       [0.19331479],\n",
              "       [0.3832336 ],\n",
              "       [0.87184644],\n",
              "       [0.8573709 ],\n",
              "       [0.9197261 ],\n",
              "       [0.08473775],\n",
              "       [0.9012784 ],\n",
              "       [0.03737457],\n",
              "       [0.672778  ],\n",
              "       [0.22847681],\n",
              "       [0.7753826 ],\n",
              "       [0.22411624],\n",
              "       [0.09885633],\n",
              "       [0.04923344],\n",
              "       [0.9624928 ],\n",
              "       [0.34838432],\n",
              "       [0.04645058],\n",
              "       [0.1878626 ],\n",
              "       [0.04732147],\n",
              "       [0.13875696],\n",
              "       [0.7587225 ],\n",
              "       [0.8644788 ],\n",
              "       [0.08880132],\n",
              "       [0.820195  ],\n",
              "       [0.0321709 ],\n",
              "       [0.9519342 ],\n",
              "       [0.7842459 ],\n",
              "       [0.6650157 ],\n",
              "       [0.15462387],\n",
              "       [0.97787535],\n",
              "       [0.820195  ],\n",
              "       [0.07321667],\n",
              "       [0.9236713 ],\n",
              "       [0.8043566 ],\n",
              "       [0.93311036],\n",
              "       [0.02472246],\n",
              "       [0.9503437 ],\n",
              "       [0.95673066],\n",
              "       [0.25624117],\n",
              "       [0.5366807 ],\n",
              "       [0.86604476],\n",
              "       [0.26951   ],\n",
              "       [0.8643624 ],\n",
              "       [0.1908035 ],\n",
              "       [0.8293059 ],\n",
              "       [0.32218492],\n",
              "       [0.5137673 ],\n",
              "       [0.03232381],\n",
              "       [0.44829667],\n",
              "       [0.90404946],\n",
              "       [0.8009246 ],\n",
              "       [0.92576444],\n",
              "       [0.87662053],\n",
              "       [0.8591394 ],\n",
              "       [0.09700969],\n",
              "       [0.44579992],\n",
              "       [0.9845085 ],\n",
              "       [0.85084736],\n",
              "       [0.01370317],\n",
              "       [0.02134339],\n",
              "       [0.9439994 ],\n",
              "       [0.25099763],\n",
              "       [0.93875754],\n",
              "       [0.10904646],\n",
              "       [0.92375386],\n",
              "       [0.46080878],\n",
              "       [0.64084905],\n",
              "       [0.9226519 ],\n",
              "       [0.11338545],\n",
              "       [0.9248075 ],\n",
              "       [0.82663596]], dtype=float32)"
            ]
          },
          "metadata": {},
          "execution_count": 60
        }
      ]
    },
    {
      "cell_type": "code",
      "source": [
        "prediction = prediction.flatten()"
      ],
      "metadata": {
        "id": "9pufSC6RcDkn"
      },
      "execution_count": 61,
      "outputs": []
    },
    {
      "cell_type": "code",
      "source": [
        "import numpy as np\n",
        "\n",
        "y_predicted = np.where(prediction > 0.5, 1, 0)\n",
        "y_predicted\n"
      ],
      "metadata": {
        "colab": {
          "base_uri": "https://localhost:8080/"
        },
        "id": "Yoi35ENwcNwf",
        "outputId": "dd9aefa1-83e4-4276-8a2f-df53bc199ece"
      },
      "execution_count": 62,
      "outputs": [
        {
          "output_type": "execute_result",
          "data": {
            "text/plain": [
              "array([1, 0, 0, 0, 0, 1, 0, 0, 1, 0, 1, 1, 1, 1, 1, 1, 1, 0, 1, 0, 0, 0,\n",
              "       0, 1, 1, 1, 0, 1, 0, 0, 0, 1, 0, 0, 1, 0, 1, 0, 0, 0, 1, 1, 0, 0,\n",
              "       0, 0, 1, 0, 0, 0, 1, 0, 0, 0, 1, 1, 0, 1, 0, 1, 1, 0, 1, 1, 0, 0,\n",
              "       0, 1, 1, 0, 1, 1, 0, 0, 0, 0, 1, 0, 1, 1, 0, 1, 0, 0, 1, 1, 1, 1,\n",
              "       0, 1, 1, 0, 0, 1, 0, 1, 0, 0, 0, 1, 0, 0, 0, 1, 1, 1, 1, 1, 1, 1,\n",
              "       1, 0, 1, 1, 1, 1, 0, 0, 1, 0, 0, 1, 1, 1, 0, 0, 1, 0, 1, 1, 1, 0,\n",
              "       0, 1, 0, 1, 0, 1, 1, 1, 0, 1, 1, 0, 0, 1, 0, 1, 1, 1, 1, 0, 1, 1,\n",
              "       1, 1, 1, 1, 0, 0, 1, 1, 1, 1, 1, 0, 0, 1, 0, 1, 1, 1, 0, 1, 1, 1,\n",
              "       0, 1, 1, 1, 0, 0, 0, 1, 1, 0, 0, 1, 0, 0, 1, 1, 1, 1, 1, 0, 0, 1,\n",
              "       0, 1, 1, 0, 1, 0, 0, 1, 1, 0, 0, 1, 1, 1, 1, 0, 0, 1, 0, 0, 1, 0,\n",
              "       1, 1, 0, 1, 0, 1, 1, 1, 1, 1, 1, 0, 1, 0, 0, 1, 1, 1, 0, 0, 0, 0,\n",
              "       1, 1, 1, 1, 1, 1, 0, 1, 1, 1, 1, 0, 1, 0, 1, 0, 1, 1, 1, 0, 0, 1,\n",
              "       1, 1, 1, 1, 0, 1, 0, 0, 1, 1, 0, 1, 1, 1, 0, 0, 0, 1, 1, 0, 1, 0,\n",
              "       0, 0, 1, 1, 1, 1, 1, 1, 1, 1, 1, 0, 1, 1, 0, 0, 1, 0, 0, 1, 1, 1,\n",
              "       0, 1, 0, 1, 0, 1, 0, 0, 0, 1, 0, 0, 0, 0, 0, 1, 1, 0, 1, 0, 1, 1,\n",
              "       1, 0, 1, 1, 0, 1, 1, 1, 0, 1, 1, 0, 1, 1, 0, 1, 0, 1, 0, 1, 0, 0,\n",
              "       1, 1, 1, 1, 1, 0, 0, 1, 1, 0, 0, 1, 0, 1, 0, 1, 0, 1, 1, 0, 1, 1])"
            ]
          },
          "metadata": {},
          "execution_count": 62
        }
      ]
    },
    {
      "cell_type": "code",
      "source": [
        "from sklearn.metrics import confusion_matrix, classification_report\n",
        "\n",
        "cm = confusion_matrix(y_test, y_predicted)\n",
        "cm \n"
      ],
      "metadata": {
        "colab": {
          "base_uri": "https://localhost:8080/"
        },
        "id": "jfU4PLzxcU73",
        "outputId": "ad642f95-8a8c-4446-bbd6-69a03da1253e"
      },
      "execution_count": 63,
      "outputs": [
        {
          "output_type": "execute_result",
          "data": {
            "text/plain": [
              "array([[155,  32],\n",
              "       [  7, 180]])"
            ]
          },
          "metadata": {},
          "execution_count": 63
        }
      ]
    },
    {
      "cell_type": "code",
      "source": [
        "from matplotlib import pyplot as plt\n",
        "import seaborn as sn\n",
        "sn.heatmap(cm, annot=True, fmt='d')\n",
        "plt.xlabel('Predicted')\n",
        "plt.ylabel('Truth')"
      ],
      "metadata": {
        "colab": {
          "base_uri": "https://localhost:8080/",
          "height": 300
        },
        "id": "8ZvFiig8cyj_",
        "outputId": "a88c5e60-d69d-43b8-b614-eab361759558"
      },
      "execution_count": 64,
      "outputs": [
        {
          "output_type": "execute_result",
          "data": {
            "text/plain": [
              "Text(33.0, 0.5, 'Truth')"
            ]
          },
          "metadata": {},
          "execution_count": 64
        },
        {
          "output_type": "display_data",
          "data": {
            "text/plain": [
              "<Figure size 432x288 with 2 Axes>"
            ],
            "image/png": "[encoded data removed]"
          },
          "metadata": {
            "needs_background": "light"
          }
        }
      ]
    },
    {
      "cell_type": "code",
      "source": [
        "print(classification_report(y_test, y_predicted))\n"
      ],
      "metadata": {
        "colab": {
          "base_uri": "https://localhost:8080/"
        },
        "id": "Pf8YDDXqdJsW",
        "outputId": "cded0a8b-ccdd-494a-af7c-32baa582e9fd"
      },
      "execution_count": 66,
      "outputs": [
        {
          "output_type": "stream",
          "name": "stdout",
          "text": [
            "              precision    recall  f1-score   support\n",
            "\n",
            "           0       0.96      0.83      0.89       187\n",
            "           1       0.85      0.96      0.90       187\n",
            "\n",
            "    accuracy                           0.90       374\n",
            "   macro avg       0.90      0.90      0.90       374\n",
            "weighted avg       0.90      0.90      0.90       374\n",
            "\n"
          ]
        }
      ]
    },
    {
      "cell_type": "code",
      "source": [
        ""
      ],
      "metadata": {
        "id": "Zl3gG_jhdJrZ"
      },
      "execution_count": null,
      "outputs": []
    },
    {
      "cell_type": "code",
      "source": [
        "reviews = [\n",
        "    'Enter a chance to win $5000, hurry up, offer valid until march 31, 2021',\n",
        "    'You are awarded a SiPix Digital Camera! call 09061221061 from landline. Delivery within 28days. T Cs Box177. M221BP. 2yr warranty. 150ppm. 16 . p pÂ£3.99',\n",
        "    'it to 80488. Your 500 free text messages are valid until 31 December 2005.',\n",
        "    'Hey Sam, Are you coming for a cricket game tomorrow',\n",
        "    \"Why don't you wait 'til at least wednesday to see if you get your .\"\n",
        "]\n",
        "model.predict(reviews)\n"
      ],
      "metadata": {
        "colab": {
          "base_uri": "https://localhost:8080/"
        },
        "id": "yHhvA4nudAR_",
        "outputId": "32f66961-f8ff-4579-8095-dd89fc3ef5e7"
      },
      "execution_count": 65,
      "outputs": [
        {
          "output_type": "stream",
          "name": "stdout",
          "text": [
            "1/1 [==============================] - 1s 1s/step\n"
          ]
        },
        {
          "output_type": "execute_result",
          "data": {
            "text/plain": [
              "array([[0.8120123 ],\n",
              "       [0.8659536 ],\n",
              "       [0.8172911 ],\n",
              "       [0.21468528],\n",
              "       [0.14500014]], dtype=float32)"
            ]
          },
          "metadata": {},
          "execution_count": 65
        }
      ]
    },
    {
      "cell_type": "code",
      "source": [
        ""
      ],
      "metadata": {
        "id": "cF8BNhIUdDd_"
      },
      "execution_count": null,
      "outputs": []
    }
  ]
}